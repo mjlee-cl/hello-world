{
 "cells": [
  {
   "cell_type": "code",
   "execution_count": 6,
   "metadata": {},
   "outputs": [],
   "source": [
    "def test1(name):\n",
    "    print(\"{} is my friend\".format(name))\n",
    "    name1=name+\" Lee\"\n",
    "    return name1"
   ]
  },
  {
   "cell_type": "code",
   "execution_count": 7,
   "metadata": {},
   "outputs": [
    {
     "name": "stdout",
     "output_type": "stream",
     "text": [
      "MJ is my friend\n"
     ]
    },
    {
     "data": {
      "text/plain": [
       "'MJ Lee'"
      ]
     },
     "execution_count": 7,
     "metadata": {},
     "output_type": "execute_result"
    }
   ],
   "source": [
    "test1(\"MJ\")"
   ]
  },
  {
   "cell_type": "code",
   "execution_count": 9,
   "metadata": {},
   "outputs": [
    {
     "data": {
      "text/plain": [
       "6"
      ]
     },
     "execution_count": 9,
     "metadata": {},
     "output_type": "execute_result"
    }
   ],
   "source": [
    "cal=lambda x:x*2\n",
    "cal(3)"
   ]
  },
  {
   "cell_type": "code",
   "execution_count": 13,
   "metadata": {},
   "outputs": [
    {
     "data": {
      "text/plain": [
       "6"
      ]
     },
     "execution_count": 13,
     "metadata": {},
     "output_type": "execute_result"
    }
   ],
   "source": [
    "cal_f=lambda x,y,z : x+y+z\n",
    "cal_f(1,2,3)"
   ]
  },
  {
   "cell_type": "code",
   "execution_count": 23,
   "metadata": {},
   "outputs": [],
   "source": [
    "def print_name(name):\n",
    "    if bool(name):\n",
    "        print('My name is {}'.format(name))\n",
    "    else:\n",
    "        print('There is no name')"
   ]
  },
  {
   "cell_type": "code",
   "execution_count": 25,
   "metadata": {},
   "outputs": [
    {
     "name": "stdout",
     "output_type": "stream",
     "text": [
      "There is no name\n"
     ]
    }
   ],
   "source": [
    "print_name('')"
   ]
  },
  {
   "cell_type": "code",
   "execution_count": 33,
   "metadata": {},
   "outputs": [
    {
     "data": {
      "text/plain": [
       "2"
      ]
     },
     "execution_count": 33,
     "metadata": {},
     "output_type": "execute_result"
    }
   ],
   "source": [
    "l={'korea':'seoul', 'japan':'tokyo'}\n",
    "m='i am a student'\n",
    "len(l)"
   ]
  },
  {
   "cell_type": "code",
   "execution_count": 76,
   "metadata": {},
   "outputs": [],
   "source": [
    "class Car():\n",
    "    num=0\n",
    "    def __init__(self, brand, size):\n",
    "        self.brand=brand\n",
    "        self.size=size\n",
    "        Car.num=Car.num+1\n",
    "        print(\"Number of car of {0} and {1} is {2}\".format(brand,size,Car.num))\n",
    "    def move(self, speed):\n",
    "        print(\"It's speed is {}\".format(speed))\n",
    "    def turn(self, direction):\n",
    "        print(\"It's direction is {}\".format(direction))\n",
    "    def stop(self):\n",
    "        print(\"Car of {0} and {1} is stopped\".format(self.brand, self.size))\n",
    "    @staticmethod\n",
    "    def cartype(type_num):\n",
    "        if type_num>20:\n",
    "            print(\"Car type is SUV\")\n",
    "        else:\n",
    "            print(\"Xar type is Sedan\")\n",
    "    @classmethod\n",
    "    def total_num(cls):\n",
    "        print(\"Total number of car is {}\".format(Car.num))"
   ]
  },
  {
   "cell_type": "code",
   "execution_count": 81,
   "metadata": {},
   "outputs": [],
   "source": [
    "class SuvCar(Car):\n",
    "    def __init__(self, brand, size, state):\n",
    "        Car.__init__(self, brand, size)\n",
    "        self.state=state\n",
    "    def car_type(self):\n",
    "        if self.state=='suv':\n",
    "            print(\"Car type is {}\".format(self.state))\n",
    "        else:\n",
    "            self.state='sedan'\n",
    "            print(\"Car type is {}\".format(self.state))"
   ]
  },
  {
   "cell_type": "code",
   "execution_count": 84,
   "metadata": {},
   "outputs": [
    {
     "name": "stdout",
     "output_type": "stream",
     "text": [
      "Number of car of audi and 30 is 3\n"
     ]
    }
   ],
   "source": [
    "SuvCar1=SuvCar(\"audi\", 30, \"sed\")"
   ]
  },
  {
   "cell_type": "code",
   "execution_count": 85,
   "metadata": {},
   "outputs": [
    {
     "name": "stdout",
     "output_type": "stream",
     "text": [
      "Car type is sedan\n"
     ]
    }
   ],
   "source": [
    "SuvCar1.car_type()"
   ]
  },
  {
   "cell_type": "code",
   "execution_count": 114,
   "metadata": {},
   "outputs": [],
   "source": [
    "str1=\"  This is a book. It is a car. They are kim, lee and park .  \""
   ]
  },
  {
   "cell_type": "code",
   "execution_count": 100,
   "metadata": {},
   "outputs": [
    {
     "data": {
      "text/plain": [
       "['', '', 'This is a book. It is a car. They are kim, lee and park.  ']"
      ]
     },
     "execution_count": 100,
     "metadata": {},
     "output_type": "execute_result"
    }
   ],
   "source": [
    "str1.split(' ',maxsplit=2)"
   ]
  },
  {
   "cell_type": "code",
   "execution_count": 116,
   "metadata": {},
   "outputs": [
    {
     "data": {
      "text/plain": [
       "' is a book. It is a car. They are kim, lee and park .'"
      ]
     },
     "execution_count": 116,
     "metadata": {},
     "output_type": "execute_result"
    }
   ],
   "source": [
    "str2=str1.strip()\n",
    "str2.strip('Thispark')"
   ]
  },
  {
   "cell_type": "code",
   "execution_count": 98,
   "metadata": {},
   "outputs": [
    {
     "name": "stdout",
     "output_type": "stream",
     "text": [
      "Domestic tel number is 010-333-4444\n"
     ]
    }
   ],
   "source": [
    "p_num=\"+82-010-333-4444\"\n",
    "s_num=p_num.split('-',1)\n",
    "print(\"Domestic tel number is {}\".format(s_num[1]))"
   ]
  },
  {
   "cell_type": "code",
   "execution_count": 119,
   "metadata": {},
   "outputs": [
    {
     "data": {
      "text/plain": [
       "'.,.,.,\\\\\\\\\\\\Python'"
      ]
     },
     "execution_count": 119,
     "metadata": {},
     "output_type": "execute_result"
    }
   ],
   "source": [
    "str3='.,.,.,\\\\\\\\\\Python@@@@$$$$'\n",
    "str3.rstrip('.,\\@$')"
   ]
  },
  {
   "cell_type": "code",
   "execution_count": null,
   "metadata": {},
   "outputs": [],
   "source": [
    "cof_menu=\" exp, am,     latte,cino .  \"\n",
    "cof_list=cof_menu.split(',')\n",
    "print(cof_list)"
   ]
  },
  {
   "cell_type": "code",
   "execution_count": null,
   "metadata": {},
   "outputs": [],
   "source": [
    "cof_list2=[]\n",
    "for cof in cof_list:\n",
    "    cof2=cof.strip()\n",
    "    cof_list2.append(cof2)\n",
    "cof_list2"
   ]
  },
  {
   "cell_type": "code",
   "execution_count": null,
   "metadata": {},
   "outputs": [],
   "source": [
    "cof_list3=[]\n",
    "for cof in cof_list2:\n",
    "    temp=cof.strip('.')\n",
    "    cof_list3.append(temp)\n",
    "cof_list3"
   ]
  },
  {
   "cell_type": "code",
   "execution_count": null,
   "metadata": {},
   "outputs": [],
   "source": [
    "cof_list4=[]\n",
    "for cof in cof_list3:\n",
    "    temp=cof.strip('  ')\n",
    "    cof_list4.append(temp)\n",
    "cof_list4"
   ]
  },
  {
   "cell_type": "code",
   "execution_count": null,
   "metadata": {},
   "outputs": [],
   "source": [
    "print('a')"
   ]
  },
  {
   "cell_type": "code",
   "execution_count": null,
   "metadata": {},
   "outputs": [],
   "source": []
  },
  {
   "cell_type": "code",
   "execution_count": null,
   "metadata": {},
   "outputs": [],
   "source": []
  },
  {
   "cell_type": "code",
   "execution_count": null,
   "metadata": {},
   "outputs": [],
   "source": []
  },
  {
   "cell_type": "code",
   "execution_count": null,
   "metadata": {},
   "outputs": [],
   "source": []
  },
  {
   "cell_type": "code",
   "execution_count": null,
   "metadata": {},
   "outputs": [],
   "source": []
  },
  {
   "cell_type": "code",
   "execution_count": null,
   "metadata": {},
   "outputs": [],
   "source": []
  },
  {
   "cell_type": "code",
   "execution_count": null,
   "metadata": {},
   "outputs": [],
   "source": []
  },
  {
   "cell_type": "code",
   "execution_count": null,
   "metadata": {},
   "outputs": [],
   "source": []
  },
  {
   "cell_type": "code",
   "execution_count": null,
   "metadata": {},
   "outputs": [],
   "source": []
  },
  {
   "cell_type": "code",
   "execution_count": null,
   "metadata": {},
   "outputs": [],
   "source": []
  },
  {
   "cell_type": "code",
   "execution_count": null,
   "metadata": {},
   "outputs": [],
   "source": []
  },
  {
   "cell_type": "code",
   "execution_count": null,
   "metadata": {},
   "outputs": [],
   "source": []
  }
 ],
 "metadata": {
  "kernelspec": {
   "display_name": "Python 3",
   "language": "python",
   "name": "python3"
  },
  "language_info": {
   "codemirror_mode": {
    "name": "ipython",
    "version": 3
   },
   "file_extension": ".py",
   "mimetype": "text/x-python",
   "name": "python",
   "nbconvert_exporter": "python",
   "pygments_lexer": "ipython3",
   "version": "3.7.4"
  }
 },
 "nbformat": 4,
 "nbformat_minor": 2
}
